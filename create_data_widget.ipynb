{
  "cells": [
    {
      "cell_type": "markdown",
      "metadata": {
        "id": "view-in-github",
        "colab_type": "text"
      },
      "source": [
        "<a href=\"https://colab.research.google.com/github/garanews/garayara/blob/main/create_data_widget.ipynb\" target=\"_parent\"><img src=\"https://colab.research.google.com/assets/colab-badge.svg\" alt=\"Open In Colab\"/></a>"
      ]
    },
    {
      "cell_type": "markdown",
      "source": [
        "# INSTALLAZIONE LIBRERIE"
      ],
      "metadata": {
        "id": "HyLYsfR0tDJs"
      }
    },
    {
      "cell_type": "code",
      "source": [
        "!pip install requests requests-toolbelt"
      ],
      "metadata": {
        "id": "Ibk1qRbCtI8U",
        "outputId": "aeba3b5b-379f-43da-c942-cdea95594d79",
        "colab": {
          "base_uri": "https://localhost:8080/"
        }
      },
      "execution_count": 1,
      "outputs": [
        {
          "output_type": "stream",
          "name": "stdout",
          "text": [
            "Requirement already satisfied: requests in /usr/local/lib/python3.7/dist-packages (2.23.0)\n",
            "Collecting requests-toolbelt\n",
            "  Downloading requests_toolbelt-0.9.1-py2.py3-none-any.whl (54 kB)\n",
            "\u001b[?25l\r\u001b[K     |██████                          | 10 kB 18.4 MB/s eta 0:00:01\r\u001b[K     |████████████                    | 20 kB 23.2 MB/s eta 0:00:01\r\u001b[K     |██████████████████              | 30 kB 28.2 MB/s eta 0:00:01\r\u001b[K     |████████████████████████▏       | 40 kB 29.6 MB/s eta 0:00:01\r\u001b[K     |██████████████████████████████▏ | 51 kB 13.8 MB/s eta 0:00:01\r\u001b[K     |████████████████████████████████| 54 kB 2.3 MB/s \n",
            "\u001b[?25hRequirement already satisfied: idna<3,>=2.5 in /usr/local/lib/python3.7/dist-packages (from requests) (2.10)\n",
            "Requirement already satisfied: chardet<4,>=3.0.2 in /usr/local/lib/python3.7/dist-packages (from requests) (3.0.4)\n",
            "Requirement already satisfied: certifi>=2017.4.17 in /usr/local/lib/python3.7/dist-packages (from requests) (2021.10.8)\n",
            "Requirement already satisfied: urllib3!=1.25.0,!=1.25.1,<1.26,>=1.21.1 in /usr/local/lib/python3.7/dist-packages (from requests) (1.24.3)\n",
            "Installing collected packages: requests-toolbelt\n",
            "Successfully installed requests-toolbelt-0.9.1\n"
          ]
        }
      ]
    },
    {
      "cell_type": "markdown",
      "metadata": {
        "id": "zVr_KKqss289"
      },
      "source": [
        "## RECUPERO TOKEN CON LOGIN"
      ]
    },
    {
      "cell_type": "code",
      "execution_count": 2,
      "metadata": {
        "id": "FCdZ6IzJs29C"
      },
      "outputs": [],
      "source": [
        "import requests\n",
        "import json\n",
        "from requests_toolbelt.multipart.encoder import MultipartEncoder\n",
        "from pathlib import Path\n",
        "from datetime import datetime\n",
        "import getpass"
      ]
    },
    {
      "cell_type": "code",
      "execution_count": 17,
      "metadata": {
        "id": "Y1BImTmns29E",
        "outputId": "edd72dcb-f008-4195-c51e-65f624d90ccc",
        "colab": {
          "base_uri": "https://localhost:8080/"
        }
      },
      "outputs": [
        {
          "output_type": "stream",
          "name": "stdout",
          "text": [
            "user: test\n",
            "password: ··········\n",
            "Token ok\n"
          ]
        }
      ],
      "source": [
        "user = input(\"user: \")\n",
        "password = getpass.getpass(\"password: \")\n",
        "\n",
        "eve_url = \"https://cis-backend.westeurope.cloudapp.azure.com\"\n",
        "api_url = \"https://cis-backend.westeurope.cloudapp.azure.com/api\"\n",
        "token = None\n",
        "\n",
        "alert_id = None\n",
        "tweet_id = None\n",
        "file_id = None\n",
        "\n",
        "session = requests.session()\n",
        "req = session.post(f\"{api_url}/auth/login\", json={\"username\": user, \"password\": password})\n",
        "\n",
        "if req.status_code == 200:\n",
        "    token = req.json()[\"data\"][\"access_token\"]\n",
        "    session.headers['Authorization'] = f\"Bearer {token}\"\n",
        "    print(\"Token ok\")"
      ]
    },
    {
      "cell_type": "markdown",
      "metadata": {
        "id": "KPbs6H6Xs29F"
      },
      "source": [
        "## CREA ALERT"
      ]
    },
    {
      "cell_type": "code",
      "execution_count": 6,
      "metadata": {
        "id": "dIot3D6xs29G"
      },
      "outputs": [],
      "source": [
        "def create_alert():\n",
        "  alert = {\n",
        "      \"entity_type\": \"alert\",\n",
        "      \"type\": \"send_toast_message\",\n",
        "      \"username\": \"test\",\n",
        "      \"from\": \"twitter\",\n",
        "      \"status\": \"new\",\n",
        "      \"severity\": \"high\",\n",
        "      \"labels\": [\"tweet\"],\n",
        "      \"title\": \"New alert from twitter\",\n",
        "      \"message\": \"New UAC-0056 activity: There’s a Go Elephant in the room, new hash: 1ce85d7be2e0717b79fbe0132e6851d81d0478dba563991b3404be9e58d745b1\",\n",
        "      \"rule_id\": \"\",\n",
        "      \"x-sources\": [{\n",
        "          \"source_name\" : \"default\",\n",
        "          \"classification\" : 0,\n",
        "          \"releasability\" : 0,\n",
        "          \"tlp\" : 0\n",
        "      }],\n",
        "  }\n",
        "  session.headers['Content-Type'] = 'application/json'\n",
        "  req = session.post(f\"{eve_url}/alerts\", json=alert)\n",
        "  if req.ok:\n",
        "      alert_id = req.json()[\"_id\"]\n",
        "      print(\"Alert ID:\", alert_id)\n",
        "      return alert_id\n",
        "  elif req.status_code == 409:\n",
        "      alert_id = req.json()[\"_error\"][\"message\"][\"_id\"]\n",
        "      print(\"Alert ID:\", alert_id)\n",
        "      return alert_id\n",
        "  print(req.json())\n",
        "  return None\n",
        "      "
      ]
    },
    {
      "cell_type": "markdown",
      "metadata": {
        "id": "AgosWwgjs29G"
      },
      "source": [
        "## CREA TWEET"
      ]
    },
    {
      "cell_type": "code",
      "execution_count": 7,
      "metadata": {
        "id": "AgaGxJgFs29H"
      },
      "outputs": [],
      "source": [
        "def create_tweet():\n",
        "  tweet = {\n",
        "      \"author_name\": \"CYBER OSINT\",\n",
        "      \"author_username\": \"@Cyber_O51NT\",\n",
        "      \"preview\": \"New UAC-0056 activity: There’s a Go Elephant in the room, new hash: 1ce85d7be2e0717b79fbe0132e6851d81d0478dba563991b3404be9e58d745b1\",\n",
        "      \"description\": \"New UAC-0056 activity: There’s a Go Elephant in the room, new hash: 1ce85d7be2e0717b79fbe0132e6851d81d0478dba563991b3404be9e58d745b1\",\n",
        "      \"x-sources\": [{\n",
        "          \"source_name\" : \"default\",\n",
        "          \"classification\" : 0,\n",
        "          \"releasability\" : 0,\n",
        "          \"tlp\" : 0\n",
        "      }],\n",
        "  }\n",
        "\n",
        "  session.headers['Content-Type'] = 'application/json'\n",
        "  req = session.post(f\"{eve_url}/x-tweets\", json=tweet)\n",
        "  if req.ok:\n",
        "      tweet_id = req.json()[\"_id\"]\n",
        "      print(\"Tweets ID:\", tweet_id)\n",
        "      return tweet_id\n",
        "  elif req.status_code == 409:\n",
        "      tweet_id = req.json()[\"_error\"][\"message\"][\"_id\"]\n",
        "      print(\"Tweets ID:\", tweet_id)\n",
        "      return tweet_id\n",
        "  print(req.json())\n",
        "  return None"
      ]
    },
    {
      "cell_type": "markdown",
      "metadata": {
        "id": "g2DlVuwTs29I"
      },
      "source": [
        "# CREA FILE"
      ]
    },
    {
      "cell_type": "code",
      "execution_count": 8,
      "metadata": {
        "id": "VrrJZOiSs29I"
      },
      "outputs": [],
      "source": [
        "def create_file():\n",
        "  filename = \"tweet.csv\"\n",
        "  with open(filename, \"w\") as f:\n",
        "    f.write(\"New UAC-0056 activity: There’s a Go Elephant in the room, new hash: 1ce85d7be2e0717b79fbe0132e6851d81d0478dba563991b3404be9e58d745b1\")\n",
        "\n",
        "  payload = {\n",
        "    \"content\": (Path(filename).name, open(filename, 'rb'), 'application/csv'),\n",
        "    \"filename\": Path(filename).name,\n",
        "    \"entity_type\": \"x_file\",\n",
        "    \"x-source.source_name\": \"default\",\n",
        "    \"x-source.classification\": \"0\",\n",
        "    \"x-source.releasability\": \"0\",\n",
        "    \"x-source.tlp\": \"0\"\n",
        "  }\n",
        "  mp_encoder = MultipartEncoder(fields=payload, encoding='utf-8')\n",
        "  session.headers['Content-Type'] = mp_encoder.content_type\n",
        "  req = requests.post(f\"{eve_url}/x_files\", data=mp_encoder, headers=session.headers)\n",
        "\n",
        "  if req.ok:\n",
        "      file_id = req.json()[\"_id\"]\n",
        "      print(\"File ID:\", file_id)\n",
        "      return file_id\n",
        "  elif req.status_code == 409:\n",
        "      file_id = req.json()[\"_error\"][\"message\"][\"_id\"]\n",
        "      print(\"File ID:\", file_id)\n",
        "      return file_id\n",
        "  print(req.json()[\"_error\"][\"message\"])\n",
        "  return None"
      ]
    },
    {
      "cell_type": "markdown",
      "metadata": {
        "id": "Mhpnsy09s29J"
      },
      "source": [
        "# CREA RELAZIONE TRA TWEET E FILE (CONTENUTO RAW DEL TWEET)"
      ]
    },
    {
      "cell_type": "code",
      "execution_count": 9,
      "metadata": {
        "id": "xPZrXwbSs29K"
      },
      "outputs": [],
      "source": [
        "def create_tweet_file_relationship(tweet_id, file_id):\n",
        "  payload = {\n",
        "    \"confidence\": 100,\n",
        "    \"relationship_type\": \"related-to\",\n",
        "    \"source_ref\": tweet_id,\n",
        "    \"source_type\": \"x-tweets\",\n",
        "    \"spec_version\": \"2.1\",\n",
        "    \"target_ref\": file_id,\n",
        "    \"target_type\": \"x_files\",\n",
        "    \"type\": \"relationship\"\n",
        "  }\n",
        "\n",
        "  session.headers['Content-Type'] = 'application/json'\n",
        "  req = session.post(f\"{eve_url}/relationships\", json=payload)\n",
        "  if req.ok or req.status_code == 409:\n",
        "      print(\"Relationship ok\")\n",
        "  else:\n",
        "      print(req.json()[\"_error\"])"
      ]
    },
    {
      "cell_type": "markdown",
      "metadata": {
        "id": "slxnMb-hs29K"
      },
      "source": [
        "# CREA RELAZIONE TRA ALERT E TWEET"
      ]
    },
    {
      "cell_type": "code",
      "execution_count": 10,
      "metadata": {
        "id": "53aOVE_Ms29K"
      },
      "outputs": [],
      "source": [
        "def create_alert_tweet_relationship(alert_id, tweet_id):\n",
        "  payload = {\n",
        "    \"confidence\": 100,\n",
        "    \"relationship_type\": \"related-to\",\n",
        "    \"source_ref\": alert_id,\n",
        "    \"source_type\": \"alerts\",\n",
        "    \"spec_version\": \"2.1\",\n",
        "    \"target_ref\": tweet_id,\n",
        "    \"target_type\": \"x-tweets\",\n",
        "    \"type\": \"relationship\"\n",
        "  }\n",
        "\n",
        "  session.headers['Content-Type'] = 'application/json'\n",
        "  req = session.post(f\"{eve_url}/relationships\", json=payload)\n",
        "  if req.ok or req.status_code == 409:\n",
        "      print(\"Relationship ok\")\n",
        "  else:\n",
        "      print(req.json()[\"_error\"])"
      ]
    },
    {
      "cell_type": "markdown",
      "source": [
        "# CLEAN"
      ],
      "metadata": {
        "id": "gyTat1QL5VoF"
      }
    },
    {
      "cell_type": "code",
      "source": [
        "def clean_vt_data():\n",
        "  data= {\n",
        "      \"217.182.197.11\": (\"ipv4-addresses\", \"value\"),\n",
        "      \"40.107.21.53\": (\"ipv4-addresses\", \"value\"), \n",
        "      \"mdfi.gov.ua\": (\"domain-names\", \"value\"),\n",
        "      \"1ce85d7be2e0717b79fbe0132e6851d81d0478dba563991b3404be9e58d745b1\": (\"x-files-metadata\", \"sha256\")\n",
        "  }\n",
        "\n",
        "  for (k, v) in data.items():\n",
        "      payload = {\n",
        "          \"where\": json.dumps({v[1]: k}),\n",
        "          \"projection\": json.dumps({\"_etag\": 1, \"_id\": 1, v[1]: 1})\n",
        "      }\n",
        "      print(f\"\\tsearching: {k}\")\n",
        "      req = session.get(f\"{eve_url}/{v[0]}\", params=payload)\n",
        "      if req.ok and len(req.json()[\"_items\"])>0:\n",
        "          data = req.json()[\"_items\"][0]\n",
        "          session.headers['If-Match'] = data[\"_etag\"]\n",
        "          print(f\"{eve_url}/{v[0]}/{data['_id']}\")\n",
        "          req = session.delete(f\"{eve_url}/{v[0]}/{data['_id']}\")\n",
        "          if req.ok:\n",
        "              print(f'\\t\\t Item {data[v[1]]} with id {data[\"_id\"]} deleted')\n",
        "          else:\n",
        "              print(f\"\\t\\t error deleting item: {req.text}\")\n",
        "          \n",
        "      else:\n",
        "          print(\"\\t\\t not found\")"
      ],
      "metadata": {
        "id": "aeEJm6g_5V7T"
      },
      "execution_count": 11,
      "outputs": []
    },
    {
      "cell_type": "code",
      "source": [
        "def del_item(k, v):\n",
        "      req = session.get(f\"{eve_url}/{v}/{k}\")\n",
        "      print(f\"\\tsearching: {k}\")\n",
        "      if req.ok:\n",
        "          data = req.json()\n",
        "          session.headers['If-Match'] = data[\"_etag\"]\n",
        "          req = session.delete(f\"{eve_url}/{v}/{data['_id']}\")\n",
        "          if req.ok:\n",
        "              print(f'\\t\\tItem with id {data[\"_id\"]} deleted')\n",
        "          else:\n",
        "              print(f\"\\t\\t error deleting item: {req.text}\")\n",
        "      else:\n",
        "          print(\"\\t\\tnot found\")\n",
        "def clean_data(alert_id, tweet_id, file_id):\n",
        "    data= {\n",
        "        alert_id: \"alerts\",\n",
        "        tweet_id: \"x-tweets\", \n",
        "        file_id: \"x_files\"\n",
        "    }\n",
        "    print(data)\n",
        "    for (k, v) in data.items():\n",
        "        del_item(k, v)\n",
        "    session.headers['If-Match'] = None"
      ],
      "metadata": {
        "id": "jh2OEpZ0TTKB"
      },
      "execution_count": 12,
      "outputs": []
    },
    {
      "cell_type": "code",
      "source": [
        "def clean_data_relationships(alert_id, tweet_id, file_id):\n",
        "  data= {\n",
        "    alert_id: \"alerts\",\n",
        "    tweet_id: \"x-tweets\", \n",
        "    file_id: \"x_files\"\n",
        "  }\n",
        "\n",
        "  print(data)\n",
        "  for (k, v) in data.items():\n",
        "      payload = {\n",
        "        \"where\": json.dumps({\"$or\": [{\"source_ref\": k, \"source_type\": v}, {\"target_ref\": k, \"target_type\": v}]})\n",
        "      }\n",
        "      req_one = session.get(f\"{eve_url}/relationships\", params=payload)\n",
        "      if req_one.ok:\n",
        "        relationships = req_one.json()[\"_items\"]\n",
        "        for data in relationships:\n",
        "          tac_id = None\n",
        "          if \"alerts\" in data[\"target_type\"] and \"threat-analysis-case\" in data[\"source_type\"]:\n",
        "            tac_id = data[\"source_ref\"]\n",
        "          if \"alerts\" in data[\"source_type\"] and \"threat-analysis-case\" in data[\"target_type\"]:\n",
        "            tac_id = data[\"target_ref\"]\n",
        "          if tac_id:\n",
        "            del_item(tac_id, \"threat-analysis-case\")\n",
        "          del_item(data['_id'], \"relationships\")\n",
        "      else:\n",
        "        print(req_one.json())"
      ],
      "metadata": {
        "id": "wBJD0cLOTUAB"
      },
      "execution_count": 22,
      "outputs": []
    },
    {
      "cell_type": "code",
      "source": [
        "import ipywidgets as widgets\n",
        "from IPython.display import display\n",
        "button_create = widgets.Button(description=\"CREATE DATA!\", button_style='success')\n",
        "button_delete = widgets.Button(description=\"DELETE DATA!\", button_style='danger')\n",
        "output_create = widgets.Output()\n",
        "output_delete = widgets.Output()\n",
        "\n",
        "def create(b):\n",
        "  global alert_id\n",
        "  global tweet_id\n",
        "  global file_id\n",
        "  with output_create:\n",
        "    output_create.clear_output()\n",
        "    alert_id = create_alert()\n",
        "    tweet_id = create_tweet()\n",
        "    file_id = create_file()\n",
        "    create_tweet_file_relationship(tweet_id, file_id)\n",
        "    create_alert_tweet_relationship(alert_id, tweet_id)\n",
        "    print(\"DONE\")\n",
        "\n",
        "def delete(b):\n",
        "  global alert_id\n",
        "  global tweet_id\n",
        "  global file_id\n",
        "  with output_delete:\n",
        "    output_delete.clear_output()\n",
        "    clean_vt_data()\n",
        "    clean_data_relationships(alert_id, tweet_id, file_id)\n",
        "    clean_data(alert_id, tweet_id, file_id)\n",
        "    print(\"DONE\")\n",
        "\n",
        "button_create.on_click(create)\n",
        "button_delete.on_click(delete)\n",
        "display(button_create, output_create)\n",
        "display(button_delete, output_delete)"
      ],
      "metadata": {
        "colab": {
          "base_uri": "https://localhost:8080/",
          "height": 358,
          "referenced_widgets": [
            "048c37c6d3fc45158a78a8edfb152deb",
            "ff2abc5c6a624167885b1d830f99b020",
            "92760e4d97544929ad8c95fae4aaa46e",
            "98020ba70bbe4a8dac2a3477c8310c6c",
            "3a6d50b4468c4f86a6ebbfc3ccac81b9",
            "d44742f185444c1fb4521025fb2abc2a",
            "0961a277be134e1780b39ec1007d2e11",
            "7e9900a124b34786bf483e6a7c8a46df",
            "49cdc81a39a346fe974c7638e1574d45",
            "6a8a7fd83a1c422fb1206e9a5269747c"
          ]
        },
        "id": "6XNBplpC-tvN",
        "outputId": "d9eb109c-4a9b-4199-9b4c-7ab8e7237bf5"
      },
      "execution_count": 18,
      "outputs": [
        {
          "output_type": "display_data",
          "data": {
            "text/plain": [
              "Button(button_style='success', description='CREATE DATA!', style=ButtonStyle())"
            ],
            "application/vnd.jupyter.widget-view+json": {
              "version_major": 2,
              "version_minor": 0,
              "model_id": "048c37c6d3fc45158a78a8edfb152deb"
            }
          },
          "metadata": {}
        },
        {
          "output_type": "display_data",
          "data": {
            "text/plain": [
              "Output()"
            ],
            "application/vnd.jupyter.widget-view+json": {
              "version_major": 2,
              "version_minor": 0,
              "model_id": "98020ba70bbe4a8dac2a3477c8310c6c"
            }
          },
          "metadata": {}
        },
        {
          "output_type": "display_data",
          "data": {
            "text/plain": [
              "Button(button_style='danger', description='DELETE DATA!', style=ButtonStyle())"
            ],
            "application/vnd.jupyter.widget-view+json": {
              "version_major": 2,
              "version_minor": 0,
              "model_id": "d44742f185444c1fb4521025fb2abc2a"
            }
          },
          "metadata": {}
        },
        {
          "output_type": "display_data",
          "data": {
            "text/plain": [
              "Output()"
            ],
            "application/vnd.jupyter.widget-view+json": {
              "version_major": 2,
              "version_minor": 0,
              "model_id": "49cdc81a39a346fe974c7638e1574d45"
            }
          },
          "metadata": {}
        }
      ]
    }
  ],
  "metadata": {
    "interpreter": {
      "hash": "e4ec30ce8aecd68a6d4e371797f59f416fd4cd4c20bb27270e4621eef6f89e82"
    },
    "kernelspec": {
      "display_name": "Python 3.10.0 ('ioc')",
      "language": "python",
      "name": "python3"
    },
    "language_info": {
      "codemirror_mode": {
        "name": "ipython",
        "version": 3
      },
      "file_extension": ".py",
      "mimetype": "text/x-python",
      "name": "python",
      "nbconvert_exporter": "python",
      "pygments_lexer": "ipython3",
      "version": "3.10.0"
    },
    "orig_nbformat": 4,
    "colab": {
      "name": "create_data.ipynb",
      "provenance": [],
      "include_colab_link": true
    },
    "widgets": {
      "application/vnd.jupyter.widget-state+json": {
        "048c37c6d3fc45158a78a8edfb152deb": {
          "model_module": "@jupyter-widgets/controls",
          "model_name": "ButtonModel",
          "model_module_version": "1.5.0",
          "state": {
            "_dom_classes": [],
            "_model_module": "@jupyter-widgets/controls",
            "_model_module_version": "1.5.0",
            "_model_name": "ButtonModel",
            "_view_count": null,
            "_view_module": "@jupyter-widgets/controls",
            "_view_module_version": "1.5.0",
            "_view_name": "ButtonView",
            "button_style": "success",
            "description": "CREATE DATA!",
            "disabled": false,
            "icon": "",
            "layout": "IPY_MODEL_ff2abc5c6a624167885b1d830f99b020",
            "style": "IPY_MODEL_92760e4d97544929ad8c95fae4aaa46e",
            "tooltip": ""
          }
        },
        "ff2abc5c6a624167885b1d830f99b020": {
          "model_module": "@jupyter-widgets/base",
          "model_name": "LayoutModel",
          "model_module_version": "1.2.0",
          "state": {
            "_model_module": "@jupyter-widgets/base",
            "_model_module_version": "1.2.0",
            "_model_name": "LayoutModel",
            "_view_count": null,
            "_view_module": "@jupyter-widgets/base",
            "_view_module_version": "1.2.0",
            "_view_name": "LayoutView",
            "align_content": null,
            "align_items": null,
            "align_self": null,
            "border": null,
            "bottom": null,
            "display": null,
            "flex": null,
            "flex_flow": null,
            "grid_area": null,
            "grid_auto_columns": null,
            "grid_auto_flow": null,
            "grid_auto_rows": null,
            "grid_column": null,
            "grid_gap": null,
            "grid_row": null,
            "grid_template_areas": null,
            "grid_template_columns": null,
            "grid_template_rows": null,
            "height": null,
            "justify_content": null,
            "justify_items": null,
            "left": null,
            "margin": null,
            "max_height": null,
            "max_width": null,
            "min_height": null,
            "min_width": null,
            "object_fit": null,
            "object_position": null,
            "order": null,
            "overflow": null,
            "overflow_x": null,
            "overflow_y": null,
            "padding": null,
            "right": null,
            "top": null,
            "visibility": null,
            "width": null
          }
        },
        "92760e4d97544929ad8c95fae4aaa46e": {
          "model_module": "@jupyter-widgets/controls",
          "model_name": "ButtonStyleModel",
          "model_module_version": "1.5.0",
          "state": {
            "_model_module": "@jupyter-widgets/controls",
            "_model_module_version": "1.5.0",
            "_model_name": "ButtonStyleModel",
            "_view_count": null,
            "_view_module": "@jupyter-widgets/base",
            "_view_module_version": "1.2.0",
            "_view_name": "StyleView",
            "button_color": null,
            "font_weight": ""
          }
        },
        "98020ba70bbe4a8dac2a3477c8310c6c": {
          "model_module": "@jupyter-widgets/output",
          "model_name": "OutputModel",
          "model_module_version": "1.0.0",
          "state": {
            "_dom_classes": [],
            "_model_module": "@jupyter-widgets/output",
            "_model_module_version": "1.0.0",
            "_model_name": "OutputModel",
            "_view_count": null,
            "_view_module": "@jupyter-widgets/output",
            "_view_module_version": "1.0.0",
            "_view_name": "OutputView",
            "layout": "IPY_MODEL_3a6d50b4468c4f86a6ebbfc3ccac81b9",
            "msg_id": "",
            "outputs": [
              {
                "output_type": "stream",
                "name": "stdout",
                "text": [
                  "Alert ID: 8983ec13-296a-543d-bc46-231fd8ba3075\n"
                ]
              },
              {
                "output_type": "stream",
                "name": "stdout",
                "text": [
                  "Tweets ID: 1c0d6d47-1b71-57e6-9d3a-5610c94a3cf8\n"
                ]
              },
              {
                "output_type": "stream",
                "name": "stdout",
                "text": [
                  "File ID: c944161d-8ff0-55a2-9cf0-d8575a0bc6c3\n",
                  "Relationship ok\n"
                ]
              },
              {
                "output_type": "stream",
                "name": "stdout",
                "text": [
                  "Relationship ok\n",
                  "DONE\n"
                ]
              }
            ]
          }
        },
        "3a6d50b4468c4f86a6ebbfc3ccac81b9": {
          "model_module": "@jupyter-widgets/base",
          "model_name": "LayoutModel",
          "model_module_version": "1.2.0",
          "state": {
            "_model_module": "@jupyter-widgets/base",
            "_model_module_version": "1.2.0",
            "_model_name": "LayoutModel",
            "_view_count": null,
            "_view_module": "@jupyter-widgets/base",
            "_view_module_version": "1.2.0",
            "_view_name": "LayoutView",
            "align_content": null,
            "align_items": null,
            "align_self": null,
            "border": null,
            "bottom": null,
            "display": null,
            "flex": null,
            "flex_flow": null,
            "grid_area": null,
            "grid_auto_columns": null,
            "grid_auto_flow": null,
            "grid_auto_rows": null,
            "grid_column": null,
            "grid_gap": null,
            "grid_row": null,
            "grid_template_areas": null,
            "grid_template_columns": null,
            "grid_template_rows": null,
            "height": null,
            "justify_content": null,
            "justify_items": null,
            "left": null,
            "margin": null,
            "max_height": null,
            "max_width": null,
            "min_height": null,
            "min_width": null,
            "object_fit": null,
            "object_position": null,
            "order": null,
            "overflow": null,
            "overflow_x": null,
            "overflow_y": null,
            "padding": null,
            "right": null,
            "top": null,
            "visibility": null,
            "width": null
          }
        },
        "d44742f185444c1fb4521025fb2abc2a": {
          "model_module": "@jupyter-widgets/controls",
          "model_name": "ButtonModel",
          "model_module_version": "1.5.0",
          "state": {
            "_dom_classes": [],
            "_model_module": "@jupyter-widgets/controls",
            "_model_module_version": "1.5.0",
            "_model_name": "ButtonModel",
            "_view_count": null,
            "_view_module": "@jupyter-widgets/controls",
            "_view_module_version": "1.5.0",
            "_view_name": "ButtonView",
            "button_style": "danger",
            "description": "DELETE DATA!",
            "disabled": false,
            "icon": "",
            "layout": "IPY_MODEL_0961a277be134e1780b39ec1007d2e11",
            "style": "IPY_MODEL_7e9900a124b34786bf483e6a7c8a46df",
            "tooltip": ""
          }
        },
        "0961a277be134e1780b39ec1007d2e11": {
          "model_module": "@jupyter-widgets/base",
          "model_name": "LayoutModel",
          "model_module_version": "1.2.0",
          "state": {
            "_model_module": "@jupyter-widgets/base",
            "_model_module_version": "1.2.0",
            "_model_name": "LayoutModel",
            "_view_count": null,
            "_view_module": "@jupyter-widgets/base",
            "_view_module_version": "1.2.0",
            "_view_name": "LayoutView",
            "align_content": null,
            "align_items": null,
            "align_self": null,
            "border": null,
            "bottom": null,
            "display": null,
            "flex": null,
            "flex_flow": null,
            "grid_area": null,
            "grid_auto_columns": null,
            "grid_auto_flow": null,
            "grid_auto_rows": null,
            "grid_column": null,
            "grid_gap": null,
            "grid_row": null,
            "grid_template_areas": null,
            "grid_template_columns": null,
            "grid_template_rows": null,
            "height": null,
            "justify_content": null,
            "justify_items": null,
            "left": null,
            "margin": null,
            "max_height": null,
            "max_width": null,
            "min_height": null,
            "min_width": null,
            "object_fit": null,
            "object_position": null,
            "order": null,
            "overflow": null,
            "overflow_x": null,
            "overflow_y": null,
            "padding": null,
            "right": null,
            "top": null,
            "visibility": null,
            "width": null
          }
        },
        "7e9900a124b34786bf483e6a7c8a46df": {
          "model_module": "@jupyter-widgets/controls",
          "model_name": "ButtonStyleModel",
          "model_module_version": "1.5.0",
          "state": {
            "_model_module": "@jupyter-widgets/controls",
            "_model_module_version": "1.5.0",
            "_model_name": "ButtonStyleModel",
            "_view_count": null,
            "_view_module": "@jupyter-widgets/base",
            "_view_module_version": "1.2.0",
            "_view_name": "StyleView",
            "button_color": null,
            "font_weight": ""
          }
        },
        "49cdc81a39a346fe974c7638e1574d45": {
          "model_module": "@jupyter-widgets/output",
          "model_name": "OutputModel",
          "model_module_version": "1.0.0",
          "state": {
            "_dom_classes": [],
            "_model_module": "@jupyter-widgets/output",
            "_model_module_version": "1.0.0",
            "_model_name": "OutputModel",
            "_view_count": null,
            "_view_module": "@jupyter-widgets/output",
            "_view_module_version": "1.0.0",
            "_view_name": "OutputView",
            "layout": "IPY_MODEL_6a8a7fd83a1c422fb1206e9a5269747c",
            "msg_id": "",
            "outputs": [
              {
                "output_type": "stream",
                "name": "stdout",
                "text": [
                  "{'8983ec13-296a-543d-bc46-231fd8ba3075': 'alerts', '1c0d6d47-1b71-57e6-9d3a-5610c94a3cf8': 'x-tweets', 'c944161d-8ff0-55a2-9cf0-d8575a0bc6c3': 'x_files'}\n",
                  "{'where': '{\"$or\": [{\"source_ref\": \"8983ec13-296a-543d-bc46-231fd8ba3075\", \"source_type\": \"alerts\"}, {\"target_ref\": \"8983ec13-296a-543d-bc46-231fd8ba3075\", \"target_type\": \"alerts\"}]}'}\n"
                ]
              },
              {
                "output_type": "stream",
                "name": "stdout",
                "text": [
                  "{'_items': [{'_id': 'd603daab-c34d-5035-9645-75dbcc6fd726', 'confidence': 100, 'relationship_type': 'related-to', 'source_ref': '8983ec13-296a-543d-bc46-231fd8ba3075', 'source_type': 'alerts', 'spec_version': '2.1', 'target_ref': 'dcaedb2e-90e6-573f-829a-4f9a0299f5ac', 'target_type': 'threat-analysis-cases', 'type': 'relationship', '_updated': '2022-05-06 08:23:20Z', '_created': '2022-05-06 08:23:20Z', '_etag': 'df808066527c96cfb1f00827c1a32e84bc34a7f8', '_links': {'self': {'title': 'relationship', 'href': 'relationships/d603daab-c34d-5035-9645-75dbcc6fd726'}}}, {'_id': '0d2829cc-af73-5648-9832-6834b1a11201', 'confidence': 100, 'relationship_type': 'related-to', 'source_ref': '8983ec13-296a-543d-bc46-231fd8ba3075', 'source_type': 'alerts', 'spec_version': '2.1', 'target_ref': '36c54ee5-7f8a-5ebb-bbd3-a14fd30265c2', 'target_type': 'threat-analysis-cases', 'type': 'relationship', '_updated': '2022-05-06 08:48:18Z', '_created': '2022-05-06 08:48:18Z', '_etag': 'b1972ddbeb3a46c75e3f36ea463e3dac6505f90d', '_links': {'self': {'title': 'relationship', 'href': 'relationships/0d2829cc-af73-5648-9832-6834b1a11201'}}}, {'_id': 'bd91f7f2-08b3-5eb3-b341-9b8ec4574472', 'confidence': 100, 'relationship_type': 'related-to', 'source_ref': '8983ec13-296a-543d-bc46-231fd8ba3075', 'source_type': 'alerts', 'spec_version': '2.1', 'target_ref': '8941db6b-59a4-523a-8532-5a608d10230b', 'target_type': 'threat-analysis-cases', 'type': 'relationship', '_updated': '2022-05-06 12:09:52Z', '_created': '2022-05-06 12:09:52Z', '_etag': '336629941020f70f176c805bf7ab0d76b6b33e00', '_links': {'self': {'title': 'relationship', 'href': 'relationships/bd91f7f2-08b3-5eb3-b341-9b8ec4574472'}}}, {'_id': '05c987ab-cea6-520f-baea-1ea8e46afcad', 'confidence': 100, 'relationship_type': 'related-to', 'source_ref': '8983ec13-296a-543d-bc46-231fd8ba3075', 'source_type': 'alerts', 'spec_version': '2.1', 'target_ref': '82fd1e96-759a-5153-9fa9-0edf8420c76a', 'target_type': 'threat-analysis-cases', 'type': 'relationship', '_updated': '2022-05-06 12:27:12Z', '_created': '2022-05-06 12:27:12Z', '_etag': '0de4191aadbe899d220f00bc6c463feba9844358', '_links': {'self': {'title': 'relationship', 'href': 'relationships/05c987ab-cea6-520f-baea-1ea8e46afcad'}}}, {'_id': 'fbbbf821-2d51-5311-b098-3f9a14cd4b69', 'confidence': 100, 'relationship_type': 'related-to', 'source_ref': '8983ec13-296a-543d-bc46-231fd8ba3075', 'source_type': 'alerts', 'spec_version': '2.1', 'target_ref': '1c0d6d47-1b71-57e6-9d3a-5610c94a3cf8', 'target_type': 'x-tweets', 'type': 'relationship', '_updated': '2022-05-05 10:27:22Z', '_created': '2022-05-05 10:27:22Z', '_etag': '4e7f72e40fcf8a20229322912bfeb7ff960e0858', '_links': {'self': {'title': 'relationship', 'href': 'relationships/fbbbf821-2d51-5311-b098-3f9a14cd4b69'}}}, {'_id': 'd346f6a1-2f51-520a-b6c7-9b9f85652b90', 'confidence': 100, 'relationship_type': 'related-to_inverse', 'source_ref': '1c0d6d47-1b71-57e6-9d3a-5610c94a3cf8', 'source_type': 'x-tweets', 'spec_version': '2.1', 'target_ref': '8983ec13-296a-543d-bc46-231fd8ba3075', 'target_type': 'alerts', 'type': 'relationship', '_updated': '2022-05-05 10:27:22Z', '_created': '2022-05-05 10:27:22Z', '_etag': 'b631b5f5c42f3f5808e33f25c0a97506c7d42247', '_links': {'self': {'title': 'relationship', 'href': 'relationships/d346f6a1-2f51-520a-b6c7-9b9f85652b90'}}}, {'_id': '414470d1-ad75-5609-bf2c-8f8868396992', 'confidence': 100, 'relationship_type': 'related-to_inverse', 'source_ref': '36c54ee5-7f8a-5ebb-bbd3-a14fd30265c2', 'source_type': 'threat-analysis-cases', 'spec_version': '2.1', 'target_ref': '8983ec13-296a-543d-bc46-231fd8ba3075', 'target_type': 'alerts', 'type': 'relationship', '_updated': '2022-05-06 08:48:18Z', '_created': '2022-05-06 08:48:18Z', '_etag': '2941d3cb327155a804cd3ab07cdd6a915008b25b', '_links': {'self': {'title': 'relationship', 'href': 'relationships/414470d1-ad75-5609-bf2c-8f8868396992'}}}, {'_id': 'b360091a-3051-5bc6-8631-95b0f2ffe610', 'confidence': 100, 'relationship_type': 'related-to_inverse', 'source_ref': '82fd1e96-759a-5153-9fa9-0edf8420c76a', 'source_type': 'threat-analysis-cases', 'spec_version': '2.1', 'target_ref': '8983ec13-296a-543d-bc46-231fd8ba3075', 'target_type': 'alerts', 'type': 'relationship', '_updated': '2022-05-06 12:27:12Z', '_created': '2022-05-06 12:27:12Z', '_etag': '352f779891f4712a2aaa9ac416ed7c8163045315', '_links': {'self': {'title': 'relationship', 'href': 'relationships/b360091a-3051-5bc6-8631-95b0f2ffe610'}}}, {'_id': '35029168-befe-5563-86de-ee94f76c51a5', 'confidence': 100, 'relationship_type': 'related-to_inverse', 'source_ref': '8941db6b-59a4-523a-8532-5a608d10230b', 'source_type': 'threat-analysis-cases', 'spec_version': '2.1', 'target_ref': '8983ec13-296a-543d-bc46-231fd8ba3075', 'target_type': 'alerts', 'type': 'relationship', '_updated': '2022-05-06 12:09:52Z', '_created': '2022-05-06 12:09:52Z', '_etag': '13d93b6a8bf189de2881430033062d6f75a74c90', '_links': {'self': {'title': 'relationship', 'href': 'relationships/35029168-befe-5563-86de-ee94f76c51a5'}}}, {'_id': 'bc7742b8-b944-5471-8232-a0776d7e9452', 'confidence': 100, 'relationship_type': 'related-to_inverse', 'source_ref': 'dcaedb2e-90e6-573f-829a-4f9a0299f5ac', 'source_type': 'threat-analysis-cases', 'spec_version': '2.1', 'target_ref': '8983ec13-296a-543d-bc46-231fd8ba3075', 'target_type': 'alerts', 'type': 'relationship', '_updated': '2022-05-06 08:23:20Z', '_created': '2022-05-06 08:23:20Z', '_etag': 'd5309d50cbdafd59e9d04387471e8cf281c2ef1d', '_links': {'self': {'title': 'relationship', 'href': 'relationships/bc7742b8-b944-5471-8232-a0776d7e9452'}}}], '_links': {'parent': {'title': 'home', 'href': '/'}, 'self': {'title': 'relationships', 'href': 'relationships?where={\"$or\": [{\"source_ref\": \"8983ec13-296a-543d-bc46-231fd8ba3075\", \"source_type\": \"alerts\"}, {\"target_ref\": \"8983ec13-296a-543d-bc46-231fd8ba3075\", \"target_type\": \"alerts\"}]}'}}, '_meta': {'page': 1, 'max_results': 10000, 'total': 10}}\n",
                  "{'where': '{\"$or\": [{\"source_ref\": \"1c0d6d47-1b71-57e6-9d3a-5610c94a3cf8\", \"source_type\": \"x-tweets\"}, {\"target_ref\": \"1c0d6d47-1b71-57e6-9d3a-5610c94a3cf8\", \"target_type\": \"x-tweets\"}]}'}\n"
                ]
              },
              {
                "output_type": "stream",
                "name": "stdout",
                "text": [
                  "{'_items': [{'_id': 'd346f6a1-2f51-520a-b6c7-9b9f85652b90', 'confidence': 100, 'relationship_type': 'related-to_inverse', 'source_ref': '1c0d6d47-1b71-57e6-9d3a-5610c94a3cf8', 'source_type': 'x-tweets', 'spec_version': '2.1', 'target_ref': '8983ec13-296a-543d-bc46-231fd8ba3075', 'target_type': 'alerts', 'type': 'relationship', '_updated': '2022-05-05 10:27:22Z', '_created': '2022-05-05 10:27:22Z', '_etag': 'b631b5f5c42f3f5808e33f25c0a97506c7d42247', '_links': {'self': {'title': 'relationship', 'href': 'relationships/d346f6a1-2f51-520a-b6c7-9b9f85652b90'}}}, {'_id': '643062d9-2e37-54d5-add3-ff556bc1c2b8', 'confidence': 100, 'relationship_type': 'related-to_inverse', 'source_ref': '1c0d6d47-1b71-57e6-9d3a-5610c94a3cf8', 'source_type': 'x-tweets', 'spec_version': '2.1', 'target_ref': '69e3937f-136d-50bb-868f-7d1b2b410925', 'target_type': 'alerts', 'type': 'relationship', '_updated': '2022-05-06 08:25:44Z', '_created': '2022-05-06 08:25:44Z', '_etag': 'e9a95d1f99d6d8de20a04f7690380f8543b5fd2f', '_links': {'self': {'title': 'relationship', 'href': 'relationships/643062d9-2e37-54d5-add3-ff556bc1c2b8'}}}, {'_id': '4d5bb1f2-29f3-5dcc-8318-8426f51fc01b', 'confidence': 100, 'relationship_type': 'related-to', 'source_ref': '1c0d6d47-1b71-57e6-9d3a-5610c94a3cf8', 'source_type': 'x-tweets', 'spec_version': '2.1', 'target_ref': '2a49d493-3cfe-5884-90d9-f68c1a7bb1f6', 'target_type': 'intrusion-sets', 'type': 'relationship', '_updated': '2022-04-11 09:37:56Z', '_created': '2022-04-11 09:37:56Z', '_etag': '3c6d4c3de79dc1b3617e57e96ea14161b398a7d8', '_links': {'self': {'title': 'relationship', 'href': 'relationships/4d5bb1f2-29f3-5dcc-8318-8426f51fc01b'}}}, {'_id': 'a9dda790-d8a2-52f8-81f6-c7c4b2ce72a8', 'confidence': 100, 'relationship_type': 'related-to', 'source_ref': '1c0d6d47-1b71-57e6-9d3a-5610c94a3cf8', 'source_type': 'x-tweets', 'spec_version': '2.1', 'target_ref': 'd3df9170-f4fa-59ca-a2d9-e24b854e04d5', 'target_type': 'intrusion-sets', 'type': 'relationship', '_updated': '2022-05-06 08:45:03Z', '_created': '2022-05-06 08:45:03Z', '_etag': 'd7024e17296b9c3d876fe6ed2fc010637bf666be', '_links': {'self': {'title': 'relationship', 'href': 'relationships/a9dda790-d8a2-52f8-81f6-c7c4b2ce72a8'}}}, {'_id': 'fdcce417-219c-5198-a26e-63e5ff0b30e9', 'type': 'relationship', 'source_ref': '1c0d6d47-1b71-57e6-9d3a-5610c94a3cf8', 'source_type': 'x-tweets', 'target_ref': '285a3af7-7fef-5869-8280-fddbf12b69e6', 'target_type': 'reports', 'relationship_type': 'related-to_inverse', 'confidence': 100, 'spec_version': '2.1', '_updated': '2022-05-05 13:05:26Z', '_created': '2022-05-05 13:05:26Z', '_etag': 'd44a4f028f2d5f6c33311acf52de061b58788673', '_links': {'self': {'title': 'relationship', 'href': 'relationships/fdcce417-219c-5198-a26e-63e5ff0b30e9'}}}, {'_id': '0086ca64-906d-50b2-bcaa-53fccda9b45d', 'confidence': 100, 'relationship_type': 'related-to', 'source_ref': '1c0d6d47-1b71-57e6-9d3a-5610c94a3cf8', 'source_type': 'x-tweets', 'spec_version': '2.1', 'target_ref': 'b158c717-9367-57a5-9dc8-bf557dae785b', 'target_type': 'threat-analysis-cases', 'type': 'relationship', '_updated': '2022-04-11 11:59:09Z', '_created': '2022-04-11 11:59:09Z', '_etag': 'b7b48e2d2d83b2a31c1318224d90d76d0b50047e', '_links': {'self': {'title': 'relationship', 'href': 'relationships/0086ca64-906d-50b2-bcaa-53fccda9b45d'}}}, {'_id': 'a8bbe83b-00c0-57c5-9b22-42ece29416f5', 'confidence': 100, 'relationship_type': 'related-to_inverse', 'source_ref': '1c0d6d47-1b71-57e6-9d3a-5610c94a3cf8', 'source_type': 'x-tweets', 'spec_version': '2.1', 'target_ref': '2e24ddcf-b9ae-5b96-afb5-8f4b9c72fb91', 'target_type': 'threat-analysis-cases', 'type': 'relationship', '_updated': '2022-05-05 10:27:22Z', '_created': '2022-05-05 10:27:22Z', '_etag': 'b631b5f5c42f3f5808e33f25c0a97506c7d42247', '_links': {'self': {'title': 'relationship', 'href': 'relationships/a8bbe83b-00c0-57c5-9b22-42ece29416f5'}}}, {'_id': '5cd4448b-cd52-5f20-9168-3fd29222c32a', 'confidence': 100, 'relationship_type': 'related-to_inverse', 'source_ref': '1c0d6d47-1b71-57e6-9d3a-5610c94a3cf8', 'source_type': 'x-tweets', 'spec_version': '2.1', 'target_ref': 'dcaedb2e-90e6-573f-829a-4f9a0299f5ac', 'target_type': 'threat-analysis-cases', 'type': 'relationship', '_updated': '2022-05-05 10:27:22Z', '_created': '2022-05-05 10:27:22Z', '_etag': 'b631b5f5c42f3f5808e33f25c0a97506c7d42247', '_links': {'self': {'title': 'relationship', 'href': 'relationships/5cd4448b-cd52-5f20-9168-3fd29222c32a'}}}, {'_id': '26fcfeb3-298b-54dd-9229-3aa83157d2ae', 'confidence': 100, 'relationship_type': 'related-to_inverse', 'source_ref': '1c0d6d47-1b71-57e6-9d3a-5610c94a3cf8', 'source_type': 'x-tweets', 'spec_version': '2.1', 'target_ref': '36c54ee5-7f8a-5ebb-bbd3-a14fd30265c2', 'target_type': 'threat-analysis-cases', 'type': 'relationship', '_updated': '2022-05-05 10:27:22Z', '_created': '2022-05-05 10:27:22Z', '_etag': 'b631b5f5c42f3f5808e33f25c0a97506c7d42247', '_links': {'self': {'title': 'relationship', 'href': 'relationships/26fcfeb3-298b-54dd-9229-3aa83157d2ae'}}}, {'_id': '65e23f93-3e46-5c63-b9f3-ec1d851182ec', 'confidence': 100, 'relationship_type': 'related-to_inverse', 'source_ref': '1c0d6d47-1b71-57e6-9d3a-5610c94a3cf8', 'source_type': 'x-tweets', 'spec_version': '2.1', 'target_ref': '8941db6b-59a4-523a-8532-5a608d10230b', 'target_type': 'threat-analysis-cases', 'type': 'relationship', '_updated': '2022-05-05 10:27:22Z', '_created': '2022-05-05 10:27:22Z', '_etag': 'b631b5f5c42f3f5808e33f25c0a97506c7d42247', '_links': {'self': {'title': 'relationship', 'href': 'relationships/65e23f93-3e46-5c63-b9f3-ec1d851182ec'}}}, {'_id': 'fcd3c07e-934b-5ddb-90bb-7846487d58c9', 'confidence': 100, 'relationship_type': 'related-to_inverse', 'source_ref': '1c0d6d47-1b71-57e6-9d3a-5610c94a3cf8', 'source_type': 'x-tweets', 'spec_version': '2.1', 'target_ref': '82fd1e96-759a-5153-9fa9-0edf8420c76a', 'target_type': 'threat-analysis-cases', 'type': 'relationship', '_updated': '2022-05-05 10:27:22Z', '_created': '2022-05-05 10:27:22Z', '_etag': 'b631b5f5c42f3f5808e33f25c0a97506c7d42247', '_links': {'self': {'title': 'relationship', 'href': 'relationships/fcd3c07e-934b-5ddb-90bb-7846487d58c9'}}}, {'_id': 'df5a9aa1-355e-58b2-a7d3-3be861d2e1a2', 'confidence': 100, 'relationship_type': 'related-to', 'source_ref': '1c0d6d47-1b71-57e6-9d3a-5610c94a3cf8', 'source_type': 'x-tweets', 'spec_version': '2.1', 'target_ref': '7d28009f-70a7-544a-8708-3c670653047e', 'target_type': 'x-files-metadata', 'type': 'relationship', '_updated': '2022-05-05 11:46:36Z', '_created': '2022-05-05 11:46:36Z', '_etag': '5ce69743f3030bde408f252b35946ce512114190', '_links': {'self': {'title': 'relationship', 'href': 'relationships/df5a9aa1-355e-58b2-a7d3-3be861d2e1a2'}}}, {'_id': '10afea0d-2d08-553f-8b2c-9d07f4a0e11f', 'confidence': 100, 'relationship_type': 'related-to', 'source_ref': '1c0d6d47-1b71-57e6-9d3a-5610c94a3cf8', 'source_type': 'x-tweets', 'spec_version': '2.1', 'target_ref': '0a130c4a-d653-5456-af3c-b905dd002389', 'target_type': 'x-files-metadata', 'type': 'relationship', '_updated': '2022-05-06 08:45:03Z', '_created': '2022-05-06 08:45:03Z', '_etag': 'a6e405f80f453f683fb53b592957932067018086', '_links': {'self': {'title': 'relationship', 'href': 'relationships/10afea0d-2d08-553f-8b2c-9d07f4a0e11f'}}}, {'_id': '10f23001-9f9c-5fae-964e-d56b46451783', 'confidence': 100, 'relationship_type': 'related-to', 'source_ref': '1c0d6d47-1b71-57e6-9d3a-5610c94a3cf8', 'source_type': 'x-tweets', 'spec_version': '2.1', 'target_ref': '26b3d683-cbf7-519e-8b47-9690c5f499ce', 'target_type': 'x-files-metadata', 'type': 'relationship', '_updated': '2022-05-06 09:51:52Z', '_created': '2022-05-06 09:51:52Z', '_etag': '778c9d65c308dedb95357ee28e3652d1afb4fec1', '_links': {'self': {'title': 'relationship', 'href': 'relationships/10f23001-9f9c-5fae-964e-d56b46451783'}}}, {'_id': '7f18a458-b2ad-504d-bd66-20e75805cce0', 'confidence': 100, 'relationship_type': 'related-to', 'source_ref': '1c0d6d47-1b71-57e6-9d3a-5610c94a3cf8', 'source_type': 'x-tweets', 'spec_version': '2.1', 'target_ref': '3eefd0fb-c19f-5f97-98cf-e06113c6b9c4', 'target_type': 'x-files-metadata', 'type': 'relationship', '_updated': '2022-05-06 12:07:12Z', '_created': '2022-05-06 12:07:12Z', '_etag': 'ebd16f3422cdbceb06aac1365452b7bc7a6c3d4f', '_links': {'self': {'title': 'relationship', 'href': 'relationships/7f18a458-b2ad-504d-bd66-20e75805cce0'}}}, {'_id': '2799a8b7-9fb3-56a8-871d-34a4ed8768c2', 'confidence': 100, 'relationship_type': 'related-to', 'source_ref': '1c0d6d47-1b71-57e6-9d3a-5610c94a3cf8', 'source_type': 'x-tweets', 'spec_version': '2.1', 'target_ref': 'cecfad6f-4000-5549-95e7-bb8cdac18938', 'target_type': 'x-files-metadata', 'type': 'relationship', '_updated': '2022-05-06 12:23:13Z', '_created': '2022-05-06 12:23:13Z', '_etag': 'fe6d389aba13f3306ba3eeab263295b1b4ea526a', '_links': {'self': {'title': 'relationship', 'href': 'relationships/2799a8b7-9fb3-56a8-871d-34a4ed8768c2'}}}, {'_id': '1ab7bc3e-d5bf-5029-aa08-335a0635bc2a', 'confidence': 100, 'relationship_type': 'related-to', 'source_ref': '1c0d6d47-1b71-57e6-9d3a-5610c94a3cf8', 'source_type': 'x-tweets', 'spec_version': '2.1', 'target_ref': 'fdd2d76c-addc-507b-9a03-b3626f713945', 'target_type': 'x_files', 'type': 'relationship', '_updated': '2022-04-11 09:35:43Z', '_created': '2022-04-11 09:35:43Z', '_etag': 'b5298e21619a0c9b68520912976038c023ce0ce1', '_links': {'self': {'title': 'relationship', 'href': 'relationships/1ab7bc3e-d5bf-5029-aa08-335a0635bc2a'}}}, {'_id': 'e914f399-0b48-5cb1-80bf-b81151aa7c76', 'confidence': 100, 'relationship_type': 'related-to', 'source_ref': '1c0d6d47-1b71-57e6-9d3a-5610c94a3cf8', 'source_type': 'x-tweets', 'spec_version': '2.1', 'target_ref': 'c944161d-8ff0-55a2-9cf0-d8575a0bc6c3', 'target_type': 'x_files', 'type': 'relationship', '_updated': '2022-05-05 10:11:02Z', '_created': '2022-05-05 10:11:02Z', '_etag': '61d5590c27725a53823a396e04e1830abf17ba7a', '_links': {'self': {'title': 'relationship', 'href': 'relationships/e914f399-0b48-5cb1-80bf-b81151aa7c76'}}}, {'_id': 'd0c6b086-da68-5d42-8971-aab9a5f435c3', 'confidence': 100, 'relationship_type': 'related-to_inverse', 'source_ref': '0a130c4a-d653-5456-af3c-b905dd002389', 'source_type': 'x-files-metadata', 'spec_version': '2.1', 'target_ref': '1c0d6d47-1b71-57e6-9d3a-5610c94a3cf8', 'target_type': 'x-tweets', 'type': 'relationship', '_updated': '2022-05-06 08:45:03Z', '_created': '2022-05-06 08:45:03Z', '_etag': '35752c7f24f996a6692715cd4247b2f575865c72', '_links': {'self': {'title': 'relationship', 'href': 'relationships/d0c6b086-da68-5d42-8971-aab9a5f435c3'}}}, {'_id': 'a77bb606-c938-550b-8a90-955cb7acc11a', 'confidence': 100, 'relationship_type': 'related-to_inverse', 'source_ref': '26b3d683-cbf7-519e-8b47-9690c5f499ce', 'source_type': 'x-files-metadata', 'spec_version': '2.1', 'target_ref': '1c0d6d47-1b71-57e6-9d3a-5610c94a3cf8', 'target_type': 'x-tweets', 'type': 'relationship', '_updated': '2022-05-06 09:51:52Z', '_created': '2022-05-06 09:51:52Z', '_etag': '4db2bae9ece3fa37ba04537968e64a7ceb737eac', '_links': {'self': {'title': 'relationship', 'href': 'relationships/a77bb606-c938-550b-8a90-955cb7acc11a'}}}, {'_id': '16aa11e0-07db-5bd8-ae89-3a6628328b55', 'type': 'relationship', 'source_ref': '285a3af7-7fef-5869-8280-fddbf12b69e6', 'source_type': 'reports', 'target_ref': '1c0d6d47-1b71-57e6-9d3a-5610c94a3cf8', 'target_type': 'x-tweets', 'relationship_type': 'related-to', 'confidence': 100, 'spec_version': '2.1', '_updated': '2022-05-05 13:05:26Z', '_created': '2022-05-05 13:05:26Z', '_etag': 'b96c7a6bd5104c340e09fe59745bd2aafa2178de', '_links': {'self': {'title': 'relationship', 'href': 'relationships/16aa11e0-07db-5bd8-ae89-3a6628328b55'}}}, {'_id': 'e4f525ac-a709-5259-b76e-293c53a31579', 'confidence': 100, 'relationship_type': 'related-to_inverse', 'source_ref': '2a49d493-3cfe-5884-90d9-f68c1a7bb1f6', 'source_type': 'intrusion-sets', 'spec_version': '2.1', 'target_ref': '1c0d6d47-1b71-57e6-9d3a-5610c94a3cf8', 'target_type': 'x-tweets', 'type': 'relationship', '_updated': '2022-04-11 09:37:56Z', '_created': '2022-04-11 09:37:56Z', '_etag': '89dd951a95aab7243a00440c03ba5a5c1fe382df', '_links': {'self': {'title': 'relationship', 'href': 'relationships/e4f525ac-a709-5259-b76e-293c53a31579'}}}, {'_id': '6913c14f-678f-50cd-b1b5-98d0bfa011f0', 'confidence': 100, 'relationship_type': 'related-to', 'source_ref': '2e24ddcf-b9ae-5b96-afb5-8f4b9c72fb91', 'source_type': 'threat-analysis-cases', 'spec_version': '2.1', 'target_ref': '1c0d6d47-1b71-57e6-9d3a-5610c94a3cf8', 'target_type': 'x-tweets', 'type': 'relationship', '_updated': '2022-05-05 10:27:22Z', '_created': '2022-05-05 10:27:22Z', '_etag': '4e7f72e40fcf8a20229322912bfeb7ff960e0858', '_links': {'self': {'title': 'relationship', 'href': 'relationships/6913c14f-678f-50cd-b1b5-98d0bfa011f0'}}}, {'_id': '5539460f-e04a-56ee-8c4e-60ee2e1366cc', 'confidence': 100, 'relationship_type': 'related-to', 'source_ref': '36c54ee5-7f8a-5ebb-bbd3-a14fd30265c2', 'source_type': 'threat-analysis-cases', 'spec_version': '2.1', 'target_ref': '1c0d6d47-1b71-57e6-9d3a-5610c94a3cf8', 'target_type': 'x-tweets', 'type': 'relationship', '_updated': '2022-05-05 10:27:22Z', '_created': '2022-05-05 10:27:22Z', '_etag': '4e7f72e40fcf8a20229322912bfeb7ff960e0858', '_links': {'self': {'title': 'relationship', 'href': 'relationships/5539460f-e04a-56ee-8c4e-60ee2e1366cc'}}}, {'_id': '6f6ea364-a63e-5188-8858-645bdae3e6e7', 'confidence': 100, 'relationship_type': 'related-to_inverse', 'source_ref': '3eefd0fb-c19f-5f97-98cf-e06113c6b9c4', 'source_type': 'x-files-metadata', 'spec_version': '2.1', 'target_ref': '1c0d6d47-1b71-57e6-9d3a-5610c94a3cf8', 'target_type': 'x-tweets', 'type': 'relationship', '_updated': '2022-05-06 12:07:12Z', '_created': '2022-05-06 12:07:12Z', '_etag': '005c387016192976078fc7a1642e1d6dda316772', '_links': {'self': {'title': 'relationship', 'href': 'relationships/6f6ea364-a63e-5188-8858-645bdae3e6e7'}}}, {'_id': '8ffd0e98-5c47-5c8d-9104-b104f502cec7', 'confidence': 100, 'relationship_type': 'related-to', 'source_ref': '69e3937f-136d-50bb-868f-7d1b2b410925', 'source_type': 'alerts', 'spec_version': '2.1', 'target_ref': '1c0d6d47-1b71-57e6-9d3a-5610c94a3cf8', 'target_type': 'x-tweets', 'type': 'relationship', '_updated': '2022-05-06 08:25:44Z', '_created': '2022-05-06 08:25:44Z', '_etag': '7967851bba920336db269f311b211ded3cb66f11', '_links': {'self': {'title': 'relationship', 'href': 'relationships/8ffd0e98-5c47-5c8d-9104-b104f502cec7'}}}, {'_id': '2bf7fcc4-d80a-5d92-81e9-bbba8409975c', 'confidence': 100, 'relationship_type': 'related-to_inverse', 'source_ref': '7d28009f-70a7-544a-8708-3c670653047e', 'source_type': 'x-files-metadata', 'spec_version': '2.1', 'target_ref': '1c0d6d47-1b71-57e6-9d3a-5610c94a3cf8', 'target_type': 'x-tweets', 'type': 'relationship', '_updated': '2022-05-05 11:46:36Z', '_created': '2022-05-05 11:46:36Z', '_etag': '64a3b5302d94dbf9e4c0db183300d6e652c99c86', '_links': {'self': {'title': 'relationship', 'href': 'relationships/2bf7fcc4-d80a-5d92-81e9-bbba8409975c'}}}, {'_id': '1e16d15c-07d7-543e-8c84-91da883f79ed', 'confidence': 100, 'relationship_type': 'related-to', 'source_ref': '82fd1e96-759a-5153-9fa9-0edf8420c76a', 'source_type': 'threat-analysis-cases', 'spec_version': '2.1', 'target_ref': '1c0d6d47-1b71-57e6-9d3a-5610c94a3cf8', 'target_type': 'x-tweets', 'type': 'relationship', '_updated': '2022-05-05 10:27:22Z', '_created': '2022-05-05 10:27:22Z', '_etag': '4e7f72e40fcf8a20229322912bfeb7ff960e0858', '_links': {'self': {'title': 'relationship', 'href': 'relationships/1e16d15c-07d7-543e-8c84-91da883f79ed'}}}, {'_id': '34d68cc2-8dd1-5169-8dba-92f9c2529254', 'confidence': 100, 'relationship_type': 'related-to', 'source_ref': '8941db6b-59a4-523a-8532-5a608d10230b', 'source_type': 'threat-analysis-cases', 'spec_version': '2.1', 'target_ref': '1c0d6d47-1b71-57e6-9d3a-5610c94a3cf8', 'target_type': 'x-tweets', 'type': 'relationship', '_updated': '2022-05-05 10:27:22Z', '_created': '2022-05-05 10:27:22Z', '_etag': '4e7f72e40fcf8a20229322912bfeb7ff960e0858', '_links': {'self': {'title': 'relationship', 'href': 'relationships/34d68cc2-8dd1-5169-8dba-92f9c2529254'}}}, {'_id': 'fbbbf821-2d51-5311-b098-3f9a14cd4b69', 'confidence': 100, 'relationship_type': 'related-to', 'source_ref': '8983ec13-296a-543d-bc46-231fd8ba3075', 'source_type': 'alerts', 'spec_version': '2.1', 'target_ref': '1c0d6d47-1b71-57e6-9d3a-5610c94a3cf8', 'target_type': 'x-tweets', 'type': 'relationship', '_updated': '2022-05-05 10:27:22Z', '_created': '2022-05-05 10:27:22Z', '_etag': '4e7f72e40fcf8a20229322912bfeb7ff960e0858', '_links': {'self': {'title': 'relationship', 'href': 'relationships/fbbbf821-2d51-5311-b098-3f9a14cd4b69'}}}, {'_id': '303bce95-ee45-5b57-bfd1-193397255a08', 'confidence': 100, 'relationship_type': 'related-to_inverse', 'source_ref': 'b158c717-9367-57a5-9dc8-bf557dae785b', 'source_type': 'threat-analysis-cases', 'spec_version': '2.1', 'target_ref': '1c0d6d47-1b71-57e6-9d3a-5610c94a3cf8', 'target_type': 'x-tweets', 'type': 'relationship', '_updated': '2022-04-11 11:59:09Z', '_created': '2022-04-11 11:59:09Z', '_etag': 'cfea6024cf17609c1f64666aa361a3705d9cc137', '_links': {'self': {'title': 'relationship', 'href': 'relationships/303bce95-ee45-5b57-bfd1-193397255a08'}}}, {'_id': 'a731ab14-0d2d-5f8d-9402-671840a4b2c6', 'confidence': 100, 'relationship_type': 'related-to_inverse', 'source_ref': 'c944161d-8ff0-55a2-9cf0-d8575a0bc6c3', 'source_type': 'x_files', 'spec_version': '2.1', 'target_ref': '1c0d6d47-1b71-57e6-9d3a-5610c94a3cf8', 'target_type': 'x-tweets', 'type': 'relationship', '_updated': '2022-05-05 10:11:02Z', '_created': '2022-05-05 10:11:02Z', '_etag': '8019e8894b327b4ce63e4a0e5c9ea58ff503d532', '_links': {'self': {'title': 'relationship', 'href': 'relationships/a731ab14-0d2d-5f8d-9402-671840a4b2c6'}}}, {'_id': 'de3b57c8-f5ff-53e7-9cc5-2d0578f0bc80', 'confidence': 100, 'relationship_type': 'related-to_inverse', 'source_ref': 'cecfad6f-4000-5549-95e7-bb8cdac18938', 'source_type': 'x-files-metadata', 'spec_version': '2.1', 'target_ref': '1c0d6d47-1b71-57e6-9d3a-5610c94a3cf8', 'target_type': 'x-tweets', 'type': 'relationship', '_updated': '2022-05-06 12:23:13Z', '_created': '2022-05-06 12:23:13Z', '_etag': '17b42788ede5c1231f4cb4443573c85aab744334', '_links': {'self': {'title': 'relationship', 'href': 'relationships/de3b57c8-f5ff-53e7-9cc5-2d0578f0bc80'}}}, {'_id': '4403c06a-c07c-5e2a-9c7e-e1222370f041', 'confidence': 100, 'relationship_type': 'related-to_inverse', 'source_ref': 'd3df9170-f4fa-59ca-a2d9-e24b854e04d5', 'source_type': 'intrusion-sets', 'spec_version': '2.1', 'target_ref': '1c0d6d47-1b71-57e6-9d3a-5610c94a3cf8', 'target_type': 'x-tweets', 'type': 'relationship', '_updated': '2022-05-06 08:45:03Z', '_created': '2022-05-06 08:45:03Z', '_etag': '23c8916d1fe18e1c01c39456758a3df4e98173a2', '_links': {'self': {'title': 'relationship', 'href': 'relationships/4403c06a-c07c-5e2a-9c7e-e1222370f041'}}}, {'_id': 'c266d0db-f3d8-509a-9ccb-3bd1edead1a9', 'confidence': 100, 'relationship_type': 'related-to', 'source_ref': 'dcaedb2e-90e6-573f-829a-4f9a0299f5ac', 'source_type': 'threat-analysis-cases', 'spec_version': '2.1', 'target_ref': '1c0d6d47-1b71-57e6-9d3a-5610c94a3cf8', 'target_type': 'x-tweets', 'type': 'relationship', '_updated': '2022-05-05 10:27:22Z', '_created': '2022-05-05 10:27:22Z', '_etag': '4e7f72e40fcf8a20229322912bfeb7ff960e0858', '_links': {'self': {'title': 'relationship', 'href': 'relationships/c266d0db-f3d8-509a-9ccb-3bd1edead1a9'}}}, {'_id': '64a8818f-425f-5a0f-a489-b2040132907c', 'confidence': 100, 'relationship_type': 'related-to_inverse', 'source_ref': 'fdd2d76c-addc-507b-9a03-b3626f713945', 'source_type': 'x_files', 'spec_version': '2.1', 'target_ref': '1c0d6d47-1b71-57e6-9d3a-5610c94a3cf8', 'target_type': 'x-tweets', 'type': 'relationship', '_updated': '2022-04-11 09:35:43Z', '_created': '2022-04-11 09:35:43Z', '_etag': 'cc452e9755d38bbbcfebb89a8d82a4b4b419caf8', '_links': {'self': {'title': 'relationship', 'href': 'relationships/64a8818f-425f-5a0f-a489-b2040132907c'}}}], '_links': {'parent': {'title': 'home', 'href': '/'}, 'self': {'title': 'relationships', 'href': 'relationships?where={\"$or\": [{\"source_ref\": \"1c0d6d47-1b71-57e6-9d3a-5610c94a3cf8\", \"source_type\": \"x-tweets\"}, {\"target_ref\": \"1c0d6d47-1b71-57e6-9d3a-5610c94a3cf8\", \"target_type\": \"x-tweets\"}]}'}}, '_meta': {'page': 1, 'max_results': 10000, 'total': 36}}\n",
                  "{'where': '{\"$or\": [{\"source_ref\": \"c944161d-8ff0-55a2-9cf0-d8575a0bc6c3\", \"source_type\": \"x_files\"}, {\"target_ref\": \"c944161d-8ff0-55a2-9cf0-d8575a0bc6c3\", \"target_type\": \"x_files\"}]}'}\n",
                  "{'_items': [{'_id': 'a731ab14-0d2d-5f8d-9402-671840a4b2c6', 'confidence': 100, 'relationship_type': 'related-to_inverse', 'source_ref': 'c944161d-8ff0-55a2-9cf0-d8575a0bc6c3', 'source_type': 'x_files', 'spec_version': '2.1', 'target_ref': '1c0d6d47-1b71-57e6-9d3a-5610c94a3cf8', 'target_type': 'x-tweets', 'type': 'relationship', '_updated': '2022-05-05 10:11:02Z', '_created': '2022-05-05 10:11:02Z', '_etag': '8019e8894b327b4ce63e4a0e5c9ea58ff503d532', '_links': {'self': {'title': 'relationship', 'href': 'relationships/a731ab14-0d2d-5f8d-9402-671840a4b2c6'}}}, {'_id': 'e914f399-0b48-5cb1-80bf-b81151aa7c76', 'confidence': 100, 'relationship_type': 'related-to', 'source_ref': '1c0d6d47-1b71-57e6-9d3a-5610c94a3cf8', 'source_type': 'x-tweets', 'spec_version': '2.1', 'target_ref': 'c944161d-8ff0-55a2-9cf0-d8575a0bc6c3', 'target_type': 'x_files', 'type': 'relationship', '_updated': '2022-05-05 10:11:02Z', '_created': '2022-05-05 10:11:02Z', '_etag': '61d5590c27725a53823a396e04e1830abf17ba7a', '_links': {'self': {'title': 'relationship', 'href': 'relationships/e914f399-0b48-5cb1-80bf-b81151aa7c76'}}}], '_links': {'parent': {'title': 'home', 'href': '/'}, 'self': {'title': 'relationships', 'href': 'relationships?where={\"$or\": [{\"source_ref\": \"c944161d-8ff0-55a2-9cf0-d8575a0bc6c3\", \"source_type\": \"x_files\"}, {\"target_ref\": \"c944161d-8ff0-55a2-9cf0-d8575a0bc6c3\", \"target_type\": \"x_files\"}]}'}}, '_meta': {'page': 1, 'max_results': 10000, 'total': 2}}\n",
                  "DONE\n"
                ]
              }
            ]
          }
        },
        "6a8a7fd83a1c422fb1206e9a5269747c": {
          "model_module": "@jupyter-widgets/base",
          "model_name": "LayoutModel",
          "model_module_version": "1.2.0",
          "state": {
            "_model_module": "@jupyter-widgets/base",
            "_model_module_version": "1.2.0",
            "_model_name": "LayoutModel",
            "_view_count": null,
            "_view_module": "@jupyter-widgets/base",
            "_view_module_version": "1.2.0",
            "_view_name": "LayoutView",
            "align_content": null,
            "align_items": null,
            "align_self": null,
            "border": null,
            "bottom": null,
            "display": null,
            "flex": null,
            "flex_flow": null,
            "grid_area": null,
            "grid_auto_columns": null,
            "grid_auto_flow": null,
            "grid_auto_rows": null,
            "grid_column": null,
            "grid_gap": null,
            "grid_row": null,
            "grid_template_areas": null,
            "grid_template_columns": null,
            "grid_template_rows": null,
            "height": null,
            "justify_content": null,
            "justify_items": null,
            "left": null,
            "margin": null,
            "max_height": null,
            "max_width": null,
            "min_height": null,
            "min_width": null,
            "object_fit": null,
            "object_position": null,
            "order": null,
            "overflow": null,
            "overflow_x": null,
            "overflow_y": null,
            "padding": null,
            "right": null,
            "top": null,
            "visibility": null,
            "width": null
          }
        }
      }
    }
  },
  "nbformat": 4,
  "nbformat_minor": 0
}